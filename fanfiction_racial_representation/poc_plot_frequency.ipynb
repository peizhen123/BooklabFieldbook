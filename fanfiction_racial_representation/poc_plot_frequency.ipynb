{
 "cells": [
  {
   "cell_type": "code",
   "execution_count": 1,
   "metadata": {
    "collapsed": true
   },
   "outputs": [],
   "source": [
    "from nltk.stem import WordNetLemmatizer\n",
    "import os"
   ]
  },
  {
   "cell_type": "code",
   "execution_count": 2,
   "outputs": [],
   "source": [
    "article_list = []\n",
    "filename_list = []\n",
    "for root,directories,files in os.walk(\"output_poc\",topdown=False) :\n",
    "    # a denotes adjective in \"pos\"\n",
    "    for name in files :\n",
    "        filename_list.append(os.path.join(root, name))\n",
    "    for name in directories :\n",
    "        print(os.path.join(root,name))\n",
    "for filename in filename_list:\n",
    "    fd=open(filename)\n",
    "    article_list.append(fd.read())\n",
    "\n",
    "from gensim.utils import simple_preprocess\n",
    "preprocessed_docs = []\n",
    "for doc in article_list:\n",
    "    preprocessed_docs.append(simple_preprocess(doc, min_len=1, max_len=20))"
   ],
   "metadata": {
    "collapsed": false,
    "pycharm": {
     "name": "#%%\n"
    }
   }
  },
  {
   "cell_type": "code",
   "execution_count": 3,
   "outputs": [],
   "source": [
    "from gensim.models import Word2Vec\n",
    "w2v_model1 = Word2Vec(sentences=preprocessed_docs,\n",
    "                      vector_size=50,\n",
    "                      window=5,\n",
    "                      min_count=5,\n",
    "                      workers=3,\n",
    "                      sg=1,\n",
    "                      hs=0,\n",
    "                      negative=5,\n",
    "                      epochs=10)"
   ],
   "metadata": {
    "collapsed": false,
    "pycharm": {
     "name": "#%%\n"
    }
   }
  },
  {
   "cell_type": "code",
   "execution_count": null,
   "outputs": [],
   "source": [],
   "metadata": {
    "collapsed": false,
    "pycharm": {
     "name": "#%%\n"
    }
   }
  },
  {
   "cell_type": "code",
   "execution_count": 4,
   "outputs": [],
   "source": [
    "from whatlies import Embedding, EmbeddingSet\n",
    "emb_w2v = EmbeddingSet.from_names_X(names=w2v_model1.wv.index_to_key,\n",
    "                                    X=w2v_model1.wv.vectors)\n",
    "(emb_w2v[\"society\", \"nation\", \"individual\", \"exclusive\"]\n",
    ".plot(x_axis=\"society\",\n",
    "y_axis=\"individual\",\n",
    "axis_metric=\"cosine_similarity\"))\n",
    "pass"
   ],
   "metadata": {
    "collapsed": false,
    "pycharm": {
     "name": "#%%\n"
    }
   }
  },
  {
   "cell_type": "code",
   "execution_count": 5,
   "outputs": [],
   "source": [
    "word_frequency_dict = dict()\n",
    "for doc in preprocessed_docs:\n",
    "    for word in doc:#%%\n",
    "        if not word in word_frequency_dict:\n",
    "            word_frequency_dict[word]=1\n",
    "        else:\n",
    "            word_frequency_dict[word]+=1\n",
    "total_number_word_occurrence = sum([word_frequency_dict[word] for word in word_frequency_dict.keys()])"
   ],
   "metadata": {
    "collapsed": false,
    "pycharm": {
     "name": "#%%\n"
    }
   }
  },
  {
   "cell_type": "code",
   "execution_count": 6,
   "outputs": [],
   "source": [
    "def find_portion_word(word):\n",
    "    if word not in word_frequency_dict:\n",
    "        return 0\n",
    "    else:\n",
    "        return (word_frequency_dict[word]+0.0)/total_number_word_occurrence"
   ],
   "metadata": {
    "collapsed": false,
    "pycharm": {
     "name": "#%%\n"
    }
   }
  },
  {
   "cell_type": "code",
   "execution_count": 11,
   "outputs": [
    {
     "name": "stdout",
     "output_type": "stream",
     "text": [
      "0.0004659879511386872\n",
      "0.00023144809539154678\n",
      "3.417208814077208e-06\n",
      "7.702280184110532e-06\n"
     ]
    }
   ],
   "source": [
    "print(find_portion_word('black'))\n",
    "print(find_portion_word('white'))\n",
    "print(find_portion_word('africa'))\n",
    "print(find_portion_word('slave'))"
   ],
   "metadata": {
    "collapsed": false,
    "pycharm": {
     "name": "#%%\n"
    }
   }
  },
  {
   "cell_type": "code",
   "execution_count": 8,
   "outputs": [
    {
     "data": {
      "text/plain": "EmbSet.subset(silly,smart,rich,poor,black,white)"
     },
     "execution_count": 8,
     "metadata": {},
     "output_type": "execute_result"
    },
    {
     "data": {
      "text/plain": "<Figure size 432x288 with 1 Axes>",
      "image/png": "[encoded data removed]"
     },
     "metadata": {
      "needs_background": "light"
     },
     "output_type": "display_data"
    }
   ],
   "source": [
    "(emb_w2v[\"silly\", \"smart\", \"rich\",\"poor\",\"black\", \"white\"]\n",
    ".plot(x_axis=\"black\",\n",
    "y_axis=\"white\",\n",
    "axis_metric=\"cosine_similarity\"))"
   ],
   "metadata": {
    "collapsed": false,
    "pycharm": {
     "name": "#%%\n"
    }
   }
  },
  {
   "cell_type": "code",
   "execution_count": null,
   "outputs": [],
   "source": [],
   "metadata": {
    "collapsed": false,
    "pycharm": {
     "name": "#%%\n"
    }
   }
  }
 ],
 "metadata": {
  "kernelspec": {
   "name": "pycharm-bb30eaf3",
   "language": "python",
   "display_name": "PyCharm (ENGL586)"
  },
  "language_info": {
   "codemirror_mode": {
    "name": "ipython",
    "version": 2
   },
   "file_extension": ".py",
   "mimetype": "text/x-python",
   "name": "python",
   "nbconvert_exporter": "python",
   "pygments_lexer": "ipython2",
   "version": "2.7.6"
  }
 },
 "nbformat": 4,
 "nbformat_minor": 0
}