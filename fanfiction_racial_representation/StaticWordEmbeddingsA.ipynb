{
 "cells": [
  {
   "cell_type": "markdown",
   "metadata": {
    "id": "helpful-potato"
   },
   "source": [
    "# Static, dense word embeddings\n",
    "\n",
    "We've already explored ways of representing words as \"sparse\" vectors (sequences of numbers where many values are zero). A term-document matrix is one classic way to produce such a representation of word meaning.\n",
    "\n",
    "Today we'll explore dense vectors like those created by the word2vec algorithm ([see Jurafsky and Martin for a review of the algorithm](https://web.stanford.edu/~jurafsky/slp3/6.pdf)). We'll use a set of pretrained vectors available in [the Python module spaCy.](https://spacy.io) \n",
    "\n",
    "First we need to make sure spacy is installed, and a medium-sized model of English is downloaded. In the command below, you may need to change ```python3.7``` to ```python``` or ```python3``` to get this to work. Alternately you can open this on GitHub, and change ```github.com``` to ```githubtocolab.com```."
   ]
  },
  {
   "cell_type": "code",
   "execution_count": 5,
   "metadata": {
    "id": "civic-header",
    "outputId": "e9656ece-a1e7-43d2-dcd9-e298bd2d91c7",
    "scrolled": false
   },
   "outputs": [],
   "source": [
    "#instal\n",
    "!python3 -m spacy download en_core_web_md\n",
    "#conda install -c conda-forge spacy"
   ]
  },
  {
   "cell_type": "markdown",
   "metadata": {
    "id": "handled-hello"
   },
   "source": [
    "Importing modules we'll need below."
   ]
  },
  {
   "cell_type": "code",
   "execution_count": null,
   "metadata": {
    "id": "mobile-upset"
   },
   "outputs": [],
   "source": [
    "import spacy, glob\n",
    "from spacy.lang.en import STOP_WORDS\n",
    "from pathlib import Path\n",
    "import pandas as pd\n",
    "import numpy as np\n",
    "from matplotlib import pyplot as plt\n",
    "import seaborn as sns\n",
    "import en_core_web_md\n",
    "from scipy.spatial.distance import cosine\n",
    "from sklearn.decomposition import PCA\n",
    "from sklearn.model_selection import cross_validate\n",
    "from sklearn.feature_extraction.text import CountVectorizer\n",
    "from sklearn.naive_bayes import MultinomialNB\n",
    "from sklearn.linear_model import LogisticRegression\n",
    "from sklearn.preprocessing import StandardScaler"
   ]
  },
  {
   "cell_type": "code",
   "execution_count": 3,
   "metadata": {},
   "outputs": [],
   "source": [
    "!python3 spacyimport.py\n"
   ]
  },
  {
   "cell_type": "code",
   "execution_count": null,
   "metadata": {},
   "outputs": [],
   "source": [
    "#import spacy"
   ]
  },
  {
   "cell_type": "markdown",
   "metadata": {
    "id": "static-thriller"
   },
   "source": [
    "Here we load spaCy's model of English and give it the name ```engl_nlp```."
   ]
  },
  {
   "cell_type": "code",
   "execution_count": 4,
   "metadata": {
    "id": "unlikely-employee"
   },
   "outputs": [
    {
     "ename": "NameError",
     "evalue": "name 'en_core_web_md' is not defined",
     "output_type": "error",
     "traceback": [
      "\u001b[0;31m---------------------------------------------------------------------------\u001b[0m",
      "\u001b[0;31mNameError\u001b[0m                                 Traceback (most recent call last)",
      "\u001b[0;32m<ipython-input-4-d8e91ad94a28>\u001b[0m in \u001b[0;36m<module>\u001b[0;34m\u001b[0m\n\u001b[0;32m----> 1\u001b[0;31m \u001b[0mengl_nlp\u001b[0m \u001b[0;34m=\u001b[0m \u001b[0men_core_web_md\u001b[0m\u001b[0;34m.\u001b[0m\u001b[0mload\u001b[0m\u001b[0;34m(\u001b[0m\u001b[0;34m)\u001b[0m\u001b[0;34m\u001b[0m\u001b[0m\n\u001b[0m",
      "\u001b[0;31mNameError\u001b[0m: name 'en_core_web_md' is not defined"
     ]
    }
   ],
   "source": [
    "engl_nlp = en_core_web_md.load()"
   ]
  },
  {
   "cell_type": "markdown",
   "metadata": {
    "id": "gothic-diagram"
   },
   "source": [
    "Let's see what happens when we use the model to transform a test sentence.\n",
    "The model will output a new variable we call ```doc.```"
   ]
  },
  {
   "cell_type": "code",
   "execution_count": null,
   "metadata": {
    "id": "apparent-education"
   },
   "outputs": [],
   "source": [
    "test = \"I went back to the store, where I found they store their apples in the back.\"\n",
    "doc = engl_nlp(test)"
   ]
  },
  {
   "cell_type": "markdown",
   "metadata": {
    "id": "adopted-compression"
   },
   "source": [
    "Doc is a sequence of objects; we can access them in order by using square brackets. Each of those objects has a ```text``` attribute and a ```vector``` attribute. The text is just the word:"
   ]
  },
  {
   "cell_type": "code",
   "execution_count": null,
   "metadata": {
    "id": "distinguished-divide",
    "outputId": "9b50a9ae-f057-41de-84dc-6a177a9d889d"
   },
   "outputs": [
    {
     "data": {
      "text/plain": [
       "'I'"
      ]
     },
     "execution_count": 5,
     "metadata": {},
     "output_type": "execute_result"
    }
   ],
   "source": [
    "doc[0].text"
   ]
  },
  {
   "cell_type": "markdown",
   "metadata": {
    "id": "polish-research"
   },
   "source": [
    "### Looking at an \"embedding\"\n",
    "\n",
    "What actually is the \"vector\" or \"embedding\" that represents a word? Let's look at the text and vector attributes for the first occurrence of \"store.\""
   ]
  },
  {
   "cell_type": "code",
   "execution_count": null,
   "metadata": {
    "id": "african-romania",
    "outputId": "622ff236-483a-4524-a0e4-519aff2cd85e"
   },
   "outputs": [
    {
     "name": "stdout",
     "output_type": "stream",
     "text": [
      "store\n",
      "300\n"
     ]
    },
    {
     "data": {
      "text/plain": [
       "array([ 4.0443e-01,  2.5853e-02, -2.8242e-01,  1.3591e-01,  5.3162e-01,\n",
       "        3.5558e-01, -4.4101e-02, -2.6730e-01,  2.4868e-01,  1.6698e+00,\n",
       "       -3.2510e-01,  1.0311e-01, -5.0500e-03, -4.7872e-01, -1.2018e-01,\n",
       "        3.1490e-01, -3.2897e-01,  1.8736e+00,  4.9632e-01,  2.2269e-03,\n",
       "       -4.0535e-01,  2.8639e-01,  9.7010e-04,  4.2422e-02, -2.3239e-01,\n",
       "        1.4898e-01, -5.9861e-01, -3.1481e-01, -2.4008e-01,  1.3169e-02,\n",
       "       -3.9922e-01, -1.5233e-01,  3.3129e-01,  1.8193e-01, -5.3594e-01,\n",
       "        9.4763e-02,  3.1362e-01,  4.1929e-01,  5.5817e-02,  3.9787e-02,\n",
       "       -3.2780e-01,  1.9989e-01,  5.2690e-01, -2.6164e-01, -3.0180e-01,\n",
       "        3.0391e-01, -4.4413e-01, -4.0429e-01, -3.8054e-02,  1.5618e-01,\n",
       "        9.8548e-02,  1.2965e-01,  8.9805e-01,  6.8168e-01,  5.4625e-01,\n",
       "       -7.8904e-01, -2.1791e-01, -3.7487e-01, -1.2188e-02, -4.4032e-01,\n",
       "        4.8587e-01, -4.9302e-01, -2.4821e-01,  1.7988e-01,  3.3138e-01,\n",
       "       -2.6030e-01,  1.7261e-01,  3.1434e-01,  5.4501e-01,  4.9358e-01,\n",
       "        1.0907e-01,  9.4694e-03,  4.6670e-01,  3.1983e-01,  8.7866e-01,\n",
       "        3.7954e-01,  2.8241e-01, -1.0564e-01, -2.0805e-01,  2.0499e-01,\n",
       "       -5.3864e-02, -1.9695e-01, -1.5595e-01, -4.0270e-01, -2.5063e-01,\n",
       "       -2.9652e-01,  2.3865e-01,  7.9322e-01,  8.1467e-02, -1.2066e-02,\n",
       "       -2.9856e-01,  3.8099e-01, -9.2358e-03, -3.2431e-01, -1.5099e-02,\n",
       "       -2.5310e-01, -5.8776e-01, -3.1421e-02,  2.4550e-01, -4.7057e-01,\n",
       "        7.2340e-02, -5.1517e-01, -1.0308e-01,  6.2022e-01, -1.4672e-01,\n",
       "       -8.9966e-02,  7.9509e-01,  2.7494e-01, -2.8688e-01, -2.0434e-01,\n",
       "        5.5843e-01, -4.2471e-01, -1.2297e-01,  4.5110e-01,  1.8128e-01,\n",
       "        6.1774e-01,  4.7748e-01,  1.8475e-01,  6.8057e-02,  1.0982e-01,\n",
       "       -9.0223e-02,  2.9158e-01, -1.8411e-01,  4.2985e-01,  3.3702e-01,\n",
       "       -6.0521e-01,  1.1385e-02, -4.9942e-02, -3.5409e-02,  6.3511e-02,\n",
       "       -1.0268e-01, -1.5581e-01, -1.8604e-01, -4.6020e-03, -1.9450e-01,\n",
       "        2.1325e-01, -1.1570e-01, -1.7212e-04, -3.5607e-02,  2.6757e-01,\n",
       "       -1.4213e+00, -3.4883e-01,  4.4280e-01, -4.3528e-01, -1.2835e-01,\n",
       "        8.5717e-03,  2.9519e-01,  2.1103e-01, -3.1154e-01, -2.5474e-02,\n",
       "        6.4090e-02,  1.1710e-01, -1.0639e-01, -1.0099e-01, -2.6282e-01,\n",
       "       -2.1579e-01, -3.2562e-01, -2.1774e-01, -4.6312e-02, -9.3602e-02,\n",
       "       -4.9361e-01,  1.2621e-01,  2.0981e-01, -3.9800e-01, -2.0222e-01,\n",
       "       -6.6101e-02,  2.8871e-01,  3.7266e-01,  3.3383e-01,  2.4739e-01,\n",
       "        6.2326e-02,  2.8048e-01, -3.5801e-01,  4.5413e-01, -2.1932e-01,\n",
       "       -1.6960e-01, -1.9561e-02,  7.3075e-01, -1.0990e-01,  1.4775e-01,\n",
       "        9.4293e-01, -2.5663e-01, -8.7037e-02, -1.5399e-01, -6.7902e-02,\n",
       "        2.9392e-01,  3.4382e-02,  1.6626e-01,  5.8044e-02, -2.6636e-01,\n",
       "       -3.8614e-01, -4.4939e-01,  2.3792e-01,  2.7112e-01,  3.7957e-01,\n",
       "       -3.7180e-03,  4.4164e-01, -1.0983e-01,  3.5344e-01,  2.4374e-01,\n",
       "        4.7678e-01, -5.3660e-01, -8.3280e-02,  1.8024e-01, -1.8693e-02,\n",
       "        6.3331e-01,  4.1659e-01,  4.9925e-01,  6.9906e-01, -3.0727e-01,\n",
       "        2.6918e-02, -3.4740e-01, -5.1050e-01, -4.3574e-01,  4.4793e-01,\n",
       "       -6.0804e-01, -1.7423e-01,  1.4922e-01, -3.8321e-01,  1.5685e-01,\n",
       "        1.7152e-02, -3.9151e-02, -7.8060e-02, -4.0994e-01, -4.0846e-01,\n",
       "       -4.8061e-02,  2.6817e-02,  3.6012e-01, -5.8477e-01,  6.1290e-02,\n",
       "        1.6369e-01, -3.0038e-01,  5.7833e-01, -5.5307e-01,  4.1346e-03,\n",
       "       -3.3369e-01,  3.3504e-02, -1.9284e-01,  9.0478e-02, -9.8456e-02,\n",
       "        2.0219e-01,  6.0995e-01,  2.6680e-02, -1.1952e-01, -7.8219e-02,\n",
       "        1.1749e-01,  8.7464e-02,  4.2058e-01, -4.1168e-01, -2.0837e-01,\n",
       "       -2.0986e-01, -2.3966e-01,  6.4009e-02, -3.1733e-02,  3.5716e-01,\n",
       "        1.7423e-01,  7.3000e-02,  2.2731e-01, -7.5722e-02, -3.6098e-01,\n",
       "        3.4755e-01, -2.3372e-02,  7.8377e-02, -3.0113e-01, -1.2922e-01,\n",
       "        5.6971e-01,  1.9335e-01,  1.0800e-01, -3.5123e-01, -8.8243e-02,\n",
       "       -4.9153e-01,  1.8686e-01, -1.3421e-01,  4.8843e-02,  5.9055e-02,\n",
       "       -2.6830e-01, -5.8662e-01,  5.5094e-01, -8.6415e-02, -2.8593e-01,\n",
       "       -3.8055e-01,  1.9540e-01,  2.0897e-01,  5.3773e-01, -5.8711e-01,\n",
       "       -3.4791e-02,  3.9171e-01, -3.0303e-01, -1.1803e-01, -7.2654e-01,\n",
       "       -6.9550e-01,  1.0983e-01,  2.7474e-01,  4.7118e-01, -2.6833e-01,\n",
       "       -6.5802e-01,  3.6198e-02, -3.9958e-01, -1.8430e-01,  5.4448e-01],\n",
       "      dtype=float32)"
      ]
     },
     "execution_count": 5,
     "metadata": {},
     "output_type": "execute_result"
    }
   ],
   "source": [
    "print(doc[5].text)\n",
    "print(len(doc[5].vector))\n",
    "doc[5].vector"
   ]
  },
  {
   "cell_type": "markdown",
   "metadata": {
    "id": "negative-tobago"
   },
   "source": [
    "The vector above is just a sequence of 300 floating-point numbers.\n",
    "\n",
    "**SpaCy's embeddings are static rather than contextual.**\n",
    "\n",
    "One of these \"store\"s is a noun, and the other a verb. They shouldn't really be identical, and they won't be when we get to \"contextual\" embeddings. But right now they are identical, as we can tell by measuring the cosine distance between the two vectors.\n",
    "\n",
    "![Illustration of cosine](https://github.com/tedunderwood/is417/blob/main/labs/7DenseVectorsOct4/cosine.png?raw=1)\n",
    "\n",
    "Since vectors can be understood as points in space (300-dimensional space!), we can take the cosine of the angle between them.\n",
    "Cosine *distance* is defined as $1 - cos(\\theta)$. When the angle is very small, cosine will be close to 1, and cosine will be close to zero. Here it is, exactly, zero.\n"
   ]
  },
  {
   "cell_type": "code",
   "execution_count": null,
   "metadata": {
    "id": "metric-harassment",
    "outputId": "a7048449-d119-4a26-a5bc-423ea541d02b"
   },
   "outputs": [
    {
     "name": "stdout",
     "output_type": "stream",
     "text": [
      "store store\n"
     ]
    },
    {
     "data": {
      "text/plain": [
       "0.0"
      ]
     },
     "execution_count": 6,
     "metadata": {},
     "output_type": "execute_result"
    }
   ],
   "source": [
    "print(doc[5].text, doc[11].text)\n",
    "cosine(doc[5].vector, doc[11].vector)"
   ]
  },
  {
   "cell_type": "markdown",
   "metadata": {
    "id": "concerned-checklist"
   },
   "source": [
    "### 1. Exploring and visualizing word embeddings\n",
    "\n",
    "Given a list of words, it's not hard to turn them into a data frame where each row represents an embedding."
   ]
  },
  {
   "cell_type": "code",
   "execution_count": null,
   "metadata": {
    "id": "liberal-surrey"
   },
   "outputs": [],
   "source": [
    "vocab = ['apple', 'banana', 'cat', 'dog', 'fish', 'octopus', 'mountain', 'store',\n",
    "         'river', 'speak', 'run', 'shudder', 'in', 'out', 'love', 'hate']"
   ]
  },
  {
   "cell_type": "code",
   "execution_count": null,
   "metadata": {
    "id": "gothic-beverage"
   },
   "outputs": [],
   "source": [
    "vectordict = dict()\n",
    "for v in vocab:\n",
    "    doc = engl_nlp(v)\n",
    "    vectordict[v] = doc[0].vector"
   ]
  },
  {
   "cell_type": "code",
   "execution_count": null,
   "metadata": {
    "id": "gothic-monitor",
    "outputId": "b147ca82-e165-4115-c2ef-35e21037dcf5"
   },
   "outputs": [
    {
     "data": {
      "text/html": [
       "<div>\n",
       "<style scoped>\n",
       "    .dataframe tbody tr th:only-of-type {\n",
       "        vertical-align: middle;\n",
       "    }\n",
       "\n",
       "    .dataframe tbody tr th {\n",
       "        vertical-align: top;\n",
       "    }\n",
       "\n",
       "    .dataframe thead th {\n",
       "        text-align: right;\n",
       "    }\n",
       "</style>\n",
       "<table border=\"1\" class=\"dataframe\">\n",
       "  <thead>\n",
       "    <tr style=\"text-align: right;\">\n",
       "      <th></th>\n",
       "      <th>0</th>\n",
       "      <th>1</th>\n",
       "      <th>2</th>\n",
       "      <th>3</th>\n",
       "      <th>4</th>\n",
       "      <th>5</th>\n",
       "      <th>6</th>\n",
       "      <th>7</th>\n",
       "      <th>8</th>\n",
       "      <th>9</th>\n",
       "      <th>...</th>\n",
       "      <th>290</th>\n",
       "      <th>291</th>\n",
       "      <th>292</th>\n",
       "      <th>293</th>\n",
       "      <th>294</th>\n",
       "      <th>295</th>\n",
       "      <th>296</th>\n",
       "      <th>297</th>\n",
       "      <th>298</th>\n",
       "      <th>299</th>\n",
       "    </tr>\n",
       "  </thead>\n",
       "  <tbody>\n",
       "    <tr>\n",
       "      <th>apple</th>\n",
       "      <td>-0.363910</td>\n",
       "      <td>0.437710</td>\n",
       "      <td>-0.204470</td>\n",
       "      <td>-0.228890</td>\n",
       "      <td>-0.142270</td>\n",
       "      <td>0.273960</td>\n",
       "      <td>-0.011435</td>\n",
       "      <td>-0.185780</td>\n",
       "      <td>0.373610</td>\n",
       "      <td>0.753390</td>\n",
       "      <td>...</td>\n",
       "      <td>-0.677310</td>\n",
       "      <td>0.280900</td>\n",
       "      <td>-0.517700</td>\n",
       "      <td>-0.410980</td>\n",
       "      <td>-0.412920</td>\n",
       "      <td>-0.067856</td>\n",
       "      <td>-0.033721</td>\n",
       "      <td>-0.729580</td>\n",
       "      <td>-0.478910</td>\n",
       "      <td>0.729560</td>\n",
       "    </tr>\n",
       "    <tr>\n",
       "      <th>banana</th>\n",
       "      <td>0.202280</td>\n",
       "      <td>-0.076618</td>\n",
       "      <td>0.370320</td>\n",
       "      <td>0.032845</td>\n",
       "      <td>-0.419570</td>\n",
       "      <td>0.072069</td>\n",
       "      <td>-0.374760</td>\n",
       "      <td>0.057460</td>\n",
       "      <td>-0.012401</td>\n",
       "      <td>0.529490</td>\n",
       "      <td>...</td>\n",
       "      <td>0.170570</td>\n",
       "      <td>0.366850</td>\n",
       "      <td>0.002525</td>\n",
       "      <td>-0.640090</td>\n",
       "      <td>-0.297650</td>\n",
       "      <td>0.789430</td>\n",
       "      <td>0.331680</td>\n",
       "      <td>-1.196600</td>\n",
       "      <td>-0.047156</td>\n",
       "      <td>0.531750</td>\n",
       "    </tr>\n",
       "    <tr>\n",
       "      <th>cat</th>\n",
       "      <td>-0.150670</td>\n",
       "      <td>-0.024468</td>\n",
       "      <td>-0.233680</td>\n",
       "      <td>-0.233780</td>\n",
       "      <td>-0.183820</td>\n",
       "      <td>0.327110</td>\n",
       "      <td>-0.220840</td>\n",
       "      <td>-0.287770</td>\n",
       "      <td>0.127590</td>\n",
       "      <td>1.165600</td>\n",
       "      <td>...</td>\n",
       "      <td>-0.331810</td>\n",
       "      <td>-0.109020</td>\n",
       "      <td>-0.023324</td>\n",
       "      <td>0.210600</td>\n",
       "      <td>-0.296330</td>\n",
       "      <td>0.815060</td>\n",
       "      <td>0.038524</td>\n",
       "      <td>0.460040</td>\n",
       "      <td>0.171870</td>\n",
       "      <td>-0.298040</td>\n",
       "    </tr>\n",
       "    <tr>\n",
       "      <th>dog</th>\n",
       "      <td>-0.401760</td>\n",
       "      <td>0.370570</td>\n",
       "      <td>0.021281</td>\n",
       "      <td>-0.341250</td>\n",
       "      <td>0.049538</td>\n",
       "      <td>0.294400</td>\n",
       "      <td>-0.173760</td>\n",
       "      <td>-0.279820</td>\n",
       "      <td>0.067622</td>\n",
       "      <td>2.169300</td>\n",
       "      <td>...</td>\n",
       "      <td>0.022908</td>\n",
       "      <td>-0.259290</td>\n",
       "      <td>-0.308620</td>\n",
       "      <td>0.001754</td>\n",
       "      <td>-0.189620</td>\n",
       "      <td>0.547890</td>\n",
       "      <td>0.311940</td>\n",
       "      <td>0.246930</td>\n",
       "      <td>0.299290</td>\n",
       "      <td>-0.074861</td>\n",
       "    </tr>\n",
       "    <tr>\n",
       "      <th>fish</th>\n",
       "      <td>-0.396710</td>\n",
       "      <td>-0.372360</td>\n",
       "      <td>-0.055794</td>\n",
       "      <td>0.071283</td>\n",
       "      <td>0.082012</td>\n",
       "      <td>0.672970</td>\n",
       "      <td>-0.551350</td>\n",
       "      <td>0.093016</td>\n",
       "      <td>-0.090448</td>\n",
       "      <td>1.742100</td>\n",
       "      <td>...</td>\n",
       "      <td>-0.231210</td>\n",
       "      <td>-0.389390</td>\n",
       "      <td>-0.776320</td>\n",
       "      <td>-0.238190</td>\n",
       "      <td>-0.101480</td>\n",
       "      <td>0.524810</td>\n",
       "      <td>-0.434280</td>\n",
       "      <td>-0.493160</td>\n",
       "      <td>0.228060</td>\n",
       "      <td>-0.464670</td>\n",
       "    </tr>\n",
       "    <tr>\n",
       "      <th>octopus</th>\n",
       "      <td>-0.091032</td>\n",
       "      <td>-0.789440</td>\n",
       "      <td>0.335180</td>\n",
       "      <td>0.269630</td>\n",
       "      <td>-0.332700</td>\n",
       "      <td>-0.028616</td>\n",
       "      <td>-0.546650</td>\n",
       "      <td>0.108790</td>\n",
       "      <td>0.071888</td>\n",
       "      <td>0.041089</td>\n",
       "      <td>...</td>\n",
       "      <td>0.049008</td>\n",
       "      <td>-0.099616</td>\n",
       "      <td>-0.501780</td>\n",
       "      <td>0.202700</td>\n",
       "      <td>0.034787</td>\n",
       "      <td>0.248630</td>\n",
       "      <td>-0.121850</td>\n",
       "      <td>-0.031629</td>\n",
       "      <td>0.579100</td>\n",
       "      <td>-0.076863</td>\n",
       "    </tr>\n",
       "    <tr>\n",
       "      <th>mountain</th>\n",
       "      <td>0.464630</td>\n",
       "      <td>0.102960</td>\n",
       "      <td>-0.171300</td>\n",
       "      <td>-0.718780</td>\n",
       "      <td>0.269900</td>\n",
       "      <td>0.606360</td>\n",
       "      <td>0.071690</td>\n",
       "      <td>0.710450</td>\n",
       "      <td>-0.627470</td>\n",
       "      <td>2.118600</td>\n",
       "      <td>...</td>\n",
       "      <td>-0.284770</td>\n",
       "      <td>0.207710</td>\n",
       "      <td>-0.039287</td>\n",
       "      <td>-0.065834</td>\n",
       "      <td>-0.464540</td>\n",
       "      <td>-0.055423</td>\n",
       "      <td>0.808050</td>\n",
       "      <td>0.639210</td>\n",
       "      <td>0.089043</td>\n",
       "      <td>-0.294910</td>\n",
       "    </tr>\n",
       "    <tr>\n",
       "      <th>store</th>\n",
       "      <td>0.404430</td>\n",
       "      <td>0.025853</td>\n",
       "      <td>-0.282420</td>\n",
       "      <td>0.135910</td>\n",
       "      <td>0.531620</td>\n",
       "      <td>0.355580</td>\n",
       "      <td>-0.044101</td>\n",
       "      <td>-0.267300</td>\n",
       "      <td>0.248680</td>\n",
       "      <td>1.669800</td>\n",
       "      <td>...</td>\n",
       "      <td>-0.695500</td>\n",
       "      <td>0.109830</td>\n",
       "      <td>0.274740</td>\n",
       "      <td>0.471180</td>\n",
       "      <td>-0.268330</td>\n",
       "      <td>-0.658020</td>\n",
       "      <td>0.036198</td>\n",
       "      <td>-0.399580</td>\n",
       "      <td>-0.184300</td>\n",
       "      <td>0.544480</td>\n",
       "    </tr>\n",
       "    <tr>\n",
       "      <th>river</th>\n",
       "      <td>0.096865</td>\n",
       "      <td>-0.290630</td>\n",
       "      <td>-0.220770</td>\n",
       "      <td>-0.780660</td>\n",
       "      <td>0.451750</td>\n",
       "      <td>0.923940</td>\n",
       "      <td>-0.565470</td>\n",
       "      <td>0.310980</td>\n",
       "      <td>-0.520390</td>\n",
       "      <td>2.432300</td>\n",
       "      <td>...</td>\n",
       "      <td>-0.333290</td>\n",
       "      <td>-0.192210</td>\n",
       "      <td>-0.600980</td>\n",
       "      <td>-0.392950</td>\n",
       "      <td>-0.067076</td>\n",
       "      <td>0.021785</td>\n",
       "      <td>-0.323220</td>\n",
       "      <td>-0.203230</td>\n",
       "      <td>-0.395790</td>\n",
       "      <td>-0.601690</td>\n",
       "    </tr>\n",
       "    <tr>\n",
       "      <th>speak</th>\n",
       "      <td>-0.210720</td>\n",
       "      <td>0.194310</td>\n",
       "      <td>-0.321450</td>\n",
       "      <td>0.499840</td>\n",
       "      <td>0.611310</td>\n",
       "      <td>-0.234940</td>\n",
       "      <td>0.156100</td>\n",
       "      <td>-0.267960</td>\n",
       "      <td>-0.383230</td>\n",
       "      <td>3.139700</td>\n",
       "      <td>...</td>\n",
       "      <td>0.176900</td>\n",
       "      <td>-0.275470</td>\n",
       "      <td>-0.346260</td>\n",
       "      <td>-0.029795</td>\n",
       "      <td>0.102970</td>\n",
       "      <td>0.268720</td>\n",
       "      <td>0.028883</td>\n",
       "      <td>0.171640</td>\n",
       "      <td>0.260060</td>\n",
       "      <td>0.173730</td>\n",
       "    </tr>\n",
       "    <tr>\n",
       "      <th>run</th>\n",
       "      <td>0.160730</td>\n",
       "      <td>-0.124740</td>\n",
       "      <td>0.117250</td>\n",
       "      <td>0.141430</td>\n",
       "      <td>-0.099597</td>\n",
       "      <td>0.213870</td>\n",
       "      <td>-0.144730</td>\n",
       "      <td>0.305320</td>\n",
       "      <td>0.730920</td>\n",
       "      <td>2.411800</td>\n",
       "      <td>...</td>\n",
       "      <td>-0.286640</td>\n",
       "      <td>-0.163650</td>\n",
       "      <td>0.135870</td>\n",
       "      <td>0.138270</td>\n",
       "      <td>-0.274430</td>\n",
       "      <td>-0.397010</td>\n",
       "      <td>0.445470</td>\n",
       "      <td>-0.078766</td>\n",
       "      <td>0.063416</td>\n",
       "      <td>-0.255440</td>\n",
       "    </tr>\n",
       "    <tr>\n",
       "      <th>shudder</th>\n",
       "      <td>0.022607</td>\n",
       "      <td>-0.391820</td>\n",
       "      <td>0.140480</td>\n",
       "      <td>-0.145290</td>\n",
       "      <td>0.448480</td>\n",
       "      <td>0.333560</td>\n",
       "      <td>0.033670</td>\n",
       "      <td>0.018659</td>\n",
       "      <td>-0.004298</td>\n",
       "      <td>0.976040</td>\n",
       "      <td>...</td>\n",
       "      <td>-0.356600</td>\n",
       "      <td>-0.096193</td>\n",
       "      <td>0.027992</td>\n",
       "      <td>-0.011045</td>\n",
       "      <td>-0.271750</td>\n",
       "      <td>0.345990</td>\n",
       "      <td>-0.106320</td>\n",
       "      <td>0.108670</td>\n",
       "      <td>0.173390</td>\n",
       "      <td>-0.252740</td>\n",
       "    </tr>\n",
       "    <tr>\n",
       "      <th>in</th>\n",
       "      <td>0.089187</td>\n",
       "      <td>0.257920</td>\n",
       "      <td>0.262820</td>\n",
       "      <td>-0.029365</td>\n",
       "      <td>0.471870</td>\n",
       "      <td>-0.103890</td>\n",
       "      <td>-0.100130</td>\n",
       "      <td>0.081230</td>\n",
       "      <td>0.208830</td>\n",
       "      <td>2.572600</td>\n",
       "      <td>...</td>\n",
       "      <td>-0.097179</td>\n",
       "      <td>-0.054541</td>\n",
       "      <td>0.192290</td>\n",
       "      <td>-0.481280</td>\n",
       "      <td>-0.203040</td>\n",
       "      <td>0.193680</td>\n",
       "      <td>-0.325460</td>\n",
       "      <td>0.144210</td>\n",
       "      <td>-0.169000</td>\n",
       "      <td>0.265010</td>\n",
       "    </tr>\n",
       "    <tr>\n",
       "      <th>out</th>\n",
       "      <td>0.049650</td>\n",
       "      <td>0.052936</td>\n",
       "      <td>-0.197680</td>\n",
       "      <td>0.074245</td>\n",
       "      <td>0.159140</td>\n",
       "      <td>0.012100</td>\n",
       "      <td>-0.299290</td>\n",
       "      <td>0.018922</td>\n",
       "      <td>0.051171</td>\n",
       "      <td>2.510900</td>\n",
       "      <td>...</td>\n",
       "      <td>-0.356000</td>\n",
       "      <td>-0.045851</td>\n",
       "      <td>0.296380</td>\n",
       "      <td>-0.064210</td>\n",
       "      <td>-0.076904</td>\n",
       "      <td>-0.204540</td>\n",
       "      <td>0.137260</td>\n",
       "      <td>0.092190</td>\n",
       "      <td>0.112840</td>\n",
       "      <td>-0.020346</td>\n",
       "    </tr>\n",
       "    <tr>\n",
       "      <th>love</th>\n",
       "      <td>0.139490</td>\n",
       "      <td>0.534530</td>\n",
       "      <td>-0.252470</td>\n",
       "      <td>-0.125650</td>\n",
       "      <td>0.048748</td>\n",
       "      <td>0.152440</td>\n",
       "      <td>0.199060</td>\n",
       "      <td>-0.065970</td>\n",
       "      <td>0.128830</td>\n",
       "      <td>2.055900</td>\n",
       "      <td>...</td>\n",
       "      <td>-0.124380</td>\n",
       "      <td>0.178440</td>\n",
       "      <td>-0.099469</td>\n",
       "      <td>0.008682</td>\n",
       "      <td>0.089213</td>\n",
       "      <td>-0.075513</td>\n",
       "      <td>-0.049069</td>\n",
       "      <td>-0.015228</td>\n",
       "      <td>0.088408</td>\n",
       "      <td>0.302170</td>\n",
       "    </tr>\n",
       "    <tr>\n",
       "      <th>hate</th>\n",
       "      <td>-0.610520</td>\n",
       "      <td>0.116560</td>\n",
       "      <td>-0.506480</td>\n",
       "      <td>-0.322160</td>\n",
       "      <td>-0.099742</td>\n",
       "      <td>0.101820</td>\n",
       "      <td>0.310420</td>\n",
       "      <td>-0.181550</td>\n",
       "      <td>0.317740</td>\n",
       "      <td>2.153700</td>\n",
       "      <td>...</td>\n",
       "      <td>0.173950</td>\n",
       "      <td>-0.014566</td>\n",
       "      <td>-0.286840</td>\n",
       "      <td>-0.416030</td>\n",
       "      <td>-0.010828</td>\n",
       "      <td>0.405140</td>\n",
       "      <td>-0.341460</td>\n",
       "      <td>0.103210</td>\n",
       "      <td>-0.088201</td>\n",
       "      <td>0.675430</td>\n",
       "    </tr>\n",
       "  </tbody>\n",
       "</table>\n",
       "<p>16 rows × 300 columns</p>\n",
       "</div>"
      ],
      "text/plain": [
       "               0         1         2         3         4         5    \\\n",
       "apple    -0.363910  0.437710 -0.204470 -0.228890 -0.142270  0.273960   \n",
       "banana    0.202280 -0.076618  0.370320  0.032845 -0.419570  0.072069   \n",
       "cat      -0.150670 -0.024468 -0.233680 -0.233780 -0.183820  0.327110   \n",
       "dog      -0.401760  0.370570  0.021281 -0.341250  0.049538  0.294400   \n",
       "fish     -0.396710 -0.372360 -0.055794  0.071283  0.082012  0.672970   \n",
       "octopus  -0.091032 -0.789440  0.335180  0.269630 -0.332700 -0.028616   \n",
       "mountain  0.464630  0.102960 -0.171300 -0.718780  0.269900  0.606360   \n",
       "store     0.404430  0.025853 -0.282420  0.135910  0.531620  0.355580   \n",
       "river     0.096865 -0.290630 -0.220770 -0.780660  0.451750  0.923940   \n",
       "speak    -0.210720  0.194310 -0.321450  0.499840  0.611310 -0.234940   \n",
       "run       0.160730 -0.124740  0.117250  0.141430 -0.099597  0.213870   \n",
       "shudder   0.022607 -0.391820  0.140480 -0.145290  0.448480  0.333560   \n",
       "in        0.089187  0.257920  0.262820 -0.029365  0.471870 -0.103890   \n",
       "out       0.049650  0.052936 -0.197680  0.074245  0.159140  0.012100   \n",
       "love      0.139490  0.534530 -0.252470 -0.125650  0.048748  0.152440   \n",
       "hate     -0.610520  0.116560 -0.506480 -0.322160 -0.099742  0.101820   \n",
       "\n",
       "               6         7         8         9    ...       290       291  \\\n",
       "apple    -0.011435 -0.185780  0.373610  0.753390  ... -0.677310  0.280900   \n",
       "banana   -0.374760  0.057460 -0.012401  0.529490  ...  0.170570  0.366850   \n",
       "cat      -0.220840 -0.287770  0.127590  1.165600  ... -0.331810 -0.109020   \n",
       "dog      -0.173760 -0.279820  0.067622  2.169300  ...  0.022908 -0.259290   \n",
       "fish     -0.551350  0.093016 -0.090448  1.742100  ... -0.231210 -0.389390   \n",
       "octopus  -0.546650  0.108790  0.071888  0.041089  ...  0.049008 -0.099616   \n",
       "mountain  0.071690  0.710450 -0.627470  2.118600  ... -0.284770  0.207710   \n",
       "store    -0.044101 -0.267300  0.248680  1.669800  ... -0.695500  0.109830   \n",
       "river    -0.565470  0.310980 -0.520390  2.432300  ... -0.333290 -0.192210   \n",
       "speak     0.156100 -0.267960 -0.383230  3.139700  ...  0.176900 -0.275470   \n",
       "run      -0.144730  0.305320  0.730920  2.411800  ... -0.286640 -0.163650   \n",
       "shudder   0.033670  0.018659 -0.004298  0.976040  ... -0.356600 -0.096193   \n",
       "in       -0.100130  0.081230  0.208830  2.572600  ... -0.097179 -0.054541   \n",
       "out      -0.299290  0.018922  0.051171  2.510900  ... -0.356000 -0.045851   \n",
       "love      0.199060 -0.065970  0.128830  2.055900  ... -0.124380  0.178440   \n",
       "hate      0.310420 -0.181550  0.317740  2.153700  ...  0.173950 -0.014566   \n",
       "\n",
       "               292       293       294       295       296       297  \\\n",
       "apple    -0.517700 -0.410980 -0.412920 -0.067856 -0.033721 -0.729580   \n",
       "banana    0.002525 -0.640090 -0.297650  0.789430  0.331680 -1.196600   \n",
       "cat      -0.023324  0.210600 -0.296330  0.815060  0.038524  0.460040   \n",
       "dog      -0.308620  0.001754 -0.189620  0.547890  0.311940  0.246930   \n",
       "fish     -0.776320 -0.238190 -0.101480  0.524810 -0.434280 -0.493160   \n",
       "octopus  -0.501780  0.202700  0.034787  0.248630 -0.121850 -0.031629   \n",
       "mountain -0.039287 -0.065834 -0.464540 -0.055423  0.808050  0.639210   \n",
       "store     0.274740  0.471180 -0.268330 -0.658020  0.036198 -0.399580   \n",
       "river    -0.600980 -0.392950 -0.067076  0.021785 -0.323220 -0.203230   \n",
       "speak    -0.346260 -0.029795  0.102970  0.268720  0.028883  0.171640   \n",
       "run       0.135870  0.138270 -0.274430 -0.397010  0.445470 -0.078766   \n",
       "shudder   0.027992 -0.011045 -0.271750  0.345990 -0.106320  0.108670   \n",
       "in        0.192290 -0.481280 -0.203040  0.193680 -0.325460  0.144210   \n",
       "out       0.296380 -0.064210 -0.076904 -0.204540  0.137260  0.092190   \n",
       "love     -0.099469  0.008682  0.089213 -0.075513 -0.049069 -0.015228   \n",
       "hate     -0.286840 -0.416030 -0.010828  0.405140 -0.341460  0.103210   \n",
       "\n",
       "               298       299  \n",
       "apple    -0.478910  0.729560  \n",
       "banana   -0.047156  0.531750  \n",
       "cat       0.171870 -0.298040  \n",
       "dog       0.299290 -0.074861  \n",
       "fish      0.228060 -0.464670  \n",
       "octopus   0.579100 -0.076863  \n",
       "mountain  0.089043 -0.294910  \n",
       "store    -0.184300  0.544480  \n",
       "river    -0.395790 -0.601690  \n",
       "speak     0.260060  0.173730  \n",
       "run       0.063416 -0.255440  \n",
       "shudder   0.173390 -0.252740  \n",
       "in       -0.169000  0.265010  \n",
       "out       0.112840 -0.020346  \n",
       "love      0.088408  0.302170  \n",
       "hate     -0.088201  0.675430  \n",
       "\n",
       "[16 rows x 300 columns]"
      ]
     },
     "execution_count": 9,
     "metadata": {},
     "output_type": "execute_result"
    }
   ],
   "source": [
    "vectordf = pd.DataFrame.from_dict(vectordict, orient = 'index')\n",
    "vectordf"
   ]
  },
  {
   "cell_type": "markdown",
   "metadata": {
    "id": "unnecessary-father"
   },
   "source": [
    "#### We can measure the cosine between vectors to get a kind of \"distance\" between embeddings\n",
    "\n",
    "compare the two pairs below."
   ]
  },
  {
   "cell_type": "code",
   "execution_count": null,
   "metadata": {
    "id": "impressed-respect",
    "outputId": "84447b61-4370-40cb-ef1c-ba55a341adbd"
   },
   "outputs": [
    {
     "data": {
      "text/plain": [
       "0.9517824345982444"
      ]
     },
     "execution_count": 10,
     "metadata": {},
     "output_type": "execute_result"
    }
   ],
   "source": [
    "cosine(vectordf.loc['octopus', : ], vectordf.loc['in', : ])"
   ]
  },
  {
   "cell_type": "code",
   "execution_count": null,
   "metadata": {
    "id": "continuing-house",
    "outputId": "7d933f1b-58b8-473f-c597-bf43a988a055"
   },
   "outputs": [
    {
     "data": {
      "text/plain": [
       "0.1983144944405293"
      ]
     },
     "execution_count": 11,
     "metadata": {},
     "output_type": "execute_result"
    }
   ],
   "source": [
    "cosine(vectordf.loc['cat', : ], vectordf.loc['dog', : ])"
   ]
  },
  {
   "cell_type": "markdown",
   "metadata": {
    "id": "funny-sussex"
   },
   "source": [
    "#### Using principal component analysis to visualize a semantic space\n",
    "\n",
    "Unfortunately, human eyes cannot see 300-dimensional space.\n",
    "\n",
    "But whenever we have a high-dimensional matrix like the one above, it's possible to use dimension-reduction techniques to flatten it into a plane (with some loss of information)."
   ]
  },
  {
   "cell_type": "code",
   "execution_count": null,
   "metadata": {
    "id": "working-romania"
   },
   "outputs": [],
   "source": [
    "def vocab2pca(vocab):\n",
    "    \n",
    "    vectordict = dict()        # create a df of embeddings\n",
    "    for v in vocab:\n",
    "        doc = engl_nlp(v)\n",
    "        vectordict[v] = doc[0].vector\n",
    "        \n",
    "    vectordf = pd.DataFrame.from_dict(vectordict, orient = 'index')\n",
    "    \n",
    "    vectorlengths = np.linalg.norm(vectordf, ord = 2, axis = 1)   # normalize vector lengths\n",
    "    vectordf = vectordf.divide(vectorlengths, axis = 'rows')      # for PCA\n",
    "    \n",
    "    pca = PCA(n_components = 2)       \n",
    "    components = pca.fit_transform(vectordf)                      # perform PCA\n",
    "    plotframe = pd.DataFrame({'x': components[ : , 0], 'y': components[ : , 1]}, index = vocab)\n",
    "    \n",
    "    return plotframe"
   ]
  },
  {
   "cell_type": "code",
   "execution_count": null,
   "metadata": {
    "id": "martial-jacksonville"
   },
   "outputs": [],
   "source": [
    "plotframe = vocab2pca(vocab)\n",
    "plotframe"
   ]
  },
  {
   "cell_type": "markdown",
   "metadata": {
    "id": "explicit-japan"
   },
   "source": [
    "Let's define a function that plots those points in two-dimensional space."
   ]
  },
  {
   "cell_type": "code",
   "execution_count": null,
   "metadata": {
    "id": "partial-agent"
   },
   "outputs": [],
   "source": [
    "def plot_the_frame(plotframe):    \n",
    "    plt.figure(figsize = (10, 8))\n",
    "    theplot = sns.scatterplot(x = plotframe.iloc[ : , 0], y = plotframe.iloc[ : , 1])\n",
    "    collabels = plotframe.columns.tolist()\n",
    "    theplot.set(xlabel = collabels[0], ylabel = collabels[1])\n",
    "\n",
    "    for rownum in range(plotframe.shape[0]):\n",
    "        x = plotframe.iloc[rownum, 0]\n",
    "        y = plotframe.iloc[rownum, 1]\n",
    "        theplot.text(x + 0.007, y + .007, \n",
    "        plotframe.index[rownum], horizontalalignment='left', \n",
    "        size='medium', color='black', weight='semibold')\n",
    "\n",
    "    plt.show()"
   ]
  },
  {
   "cell_type": "code",
   "execution_count": null,
   "metadata": {
    "id": "western-playing"
   },
   "outputs": [],
   "source": [
    "plot_the_frame(plotframe)"
   ]
  },
  {
   "cell_type": "markdown",
   "metadata": {
    "id": "front-cliff"
   },
   "source": [
    "#### That was fun. Let's zoom in on the animals over on the noun side of things."
   ]
  },
  {
   "cell_type": "code",
   "execution_count": null,
   "metadata": {
    "id": "still-bulgarian"
   },
   "outputs": [],
   "source": [
    "animals = ['starling', 'swan', 'hawk', 'dolphin', 'shark', 'whale', 'goldfish', 'lion', 'elephant', \n",
    "           'antelope', 'skunk', 'mouse', 'spider', 'gnat', 'ape', 'dog', 'rat', 'bee', 'tiger',\n",
    "          'wren', 'monkey']\n",
    "plotframe = vocab2pca(animals)\n",
    "plot_the_frame(plotframe)"
   ]
  },
  {
   "cell_type": "markdown",
   "metadata": {
    "id": "synthetic-words"
   },
   "source": [
    "**Can we interpret this?**\n",
    "\n",
    "There are certainly groups of animals visible here. How would you describe them?\n",
    "\n",
    "But it's rarely easy to say what the *x* and *y* axes represent in a PCA plot.\n",
    "\n",
    "However, we can create axes that are a little more interpretable if we like."
   ]
  },
  {
   "cell_type": "code",
   "execution_count": null,
   "metadata": {
    "id": "artistic-electricity"
   },
   "outputs": [],
   "source": [
    "def get_vectors(wordlist): \n",
    "    vectors = []\n",
    "    \n",
    "    for ex in wordlist:        # for each word in a wordlist\n",
    "        doc = engl_nlp(ex)\n",
    "        vec = doc[0].vector    # get its vector\n",
    "        vectorlength = np.linalg.norm(vec, ord = 2)     # normalize length\n",
    "        vectors.append(vec / vectorlength)              # and save it in a list\n",
    "        \n",
    "    thesum = np.sum(vectors, axis = 0)                  # then add all the vectors\n",
    "    vectorlength = np.linalg.norm(thesum, ord = 2)      # normalize length again\n",
    "    \n",
    "    return thesum / vectorlength\n",
    "\n",
    "def make_direction(positive_examples, negative_examples):\n",
    "    \n",
    "    posvector = get_vectors(positive_examples)           # create a mean positive vector\n",
    "    negvector = get_vectors(negative_examples)           # and negative vector\n",
    "    direction = posvector - negvector                    # subtract the second from the first\n",
    "    \n",
    "    return direction\n",
    "    "
   ]
  },
  {
   "cell_type": "code",
   "execution_count": null,
   "metadata": {
    "id": "devoted-hostel"
   },
   "outputs": [],
   "source": [
    "airvswater = make_direction(['fly', 'wings', 'air'], ['swim', 'fins', 'water'])\n",
    "bigvslittle = make_direction(['big', 'huge', 'large'], ['small', 'tiny'])"
   ]
  },
  {
   "cell_type": "markdown",
   "metadata": {
    "id": "sized-vector"
   },
   "source": [
    "Now, how do we use these two \"directions\" to organize a space?\n",
    "\n",
    "We'll give each word an x position that is its cosine similarity to the first direction, and a y position that is its cosine similarity to the second."
   ]
  },
  {
   "cell_type": "code",
   "execution_count": null,
   "metadata": {
    "id": "monetary-yeast"
   },
   "outputs": [],
   "source": [
    "def organizeby2dims(words, ref_vector1, ref_vector2, col1name, col2name):\n",
    "    dict4df = dict()\n",
    "    \n",
    "    for colname in [col1name, col2name]:       # create a dictionary with \n",
    "        dict4df[colname] = []                  # appropriate key names\n",
    "        \n",
    "    for w in words:                            # for each word       \n",
    "        doc = engl_nlp(w)\n",
    "        vec = doc[0].vector\n",
    "        cos1 = cosine(vec, ref_vector1)        # get its x position\n",
    "        cos2 = cosine(vec, ref_vector2)        # and y position\n",
    "        \n",
    "        dict4df[col1name].append(cos1)\n",
    "        dict4df[col2name].append(cos2)\n",
    "\n",
    "    plotframe = pd.DataFrame(dict4df, index = words)  # make this a data frame,\n",
    "                                                      # with words as index labels\n",
    "    \n",
    "    return plotframe"
   ]
  },
  {
   "cell_type": "code",
   "execution_count": null,
   "metadata": {
    "id": "angry-province"
   },
   "outputs": [],
   "source": [
    "plotframe = organizeby2dims(animals, airvswater, bigvslittle, 'aerial <---> aquatic', 'big <---> little')\n",
    "plot_the_frame(plotframe)"
   ]
  },
  {
   "cell_type": "markdown",
   "metadata": {
    "id": "patent-personal"
   },
   "source": [
    "### 2. Explore an example on your own\n",
    "\n",
    "Animals (other than hominids) aren't too controversial. Let's consider an example where all kinds of questions about social bias will immediately become obvious.\n",
    "\n",
    "Here's a list of occupations. Try organizing them along axes like\n",
    "\n",
    "1. wealthy vs needy\n",
    "2. famous vs obscure\n",
    "3. man vs woman\n",
    "4. You can also fuse 1 & 2: rich and famous vs poor and obscure\n",
    "\n",
    "Sometimes it helps to invent multiple synonyms for an idea to make sure you get the core idea you're shooting for. (E.g., by itself \"rich\" could mean, \"and creamy, as in a dessert.\") So when you make_direction() you might also want to say \"wealthy\" and \"affluent\" to make sure you produce a vector that is in the direction you want."
   ]
  },
  {
   "cell_type": "code",
   "execution_count": null,
   "metadata": {
    "id": "bulgarian-progressive"
   },
   "outputs": [],
   "source": [
    "occupations = ['farmer', 'surgeon', 'policeman', 'lawyer', 'actor', 'nurse', \n",
    "         'thief', 'politician', 'accountant', 'engineer', 'chef', 'teacher',\n",
    "              'banker', 'dancer', 'bodyguard', 'pilot', 'actress', 'soldier', \n",
    "               'writer', 'artist', 'handyman', 'broker', 'queen']"
   ]
  },
  {
   "cell_type": "code",
   "execution_count": null,
   "metadata": {
    "id": "sonic-associate",
    "outputId": "e10b1c8e-253f-4a29-dedf-feff6486dc99"
   },
   "outputs": [
    {
     "data": {
      "image/png": "[encoded data removed]",
      "text/plain": [
       "<Figure size 720x576 with 1 Axes>"
      ]
     },
     "metadata": {
      "needs_background": "light"
     },
     "output_type": "display_data"
    }
   ],
   "source": [
    "plotframe = vocab2pca(occupations)\n",
    "plot_the_frame(plotframe)\n"
   ]
  },
  {
   "cell_type": "code",
   "execution_count": null,
   "metadata": {
    "id": "contemporary-yellow"
   },
   "outputs": [],
   "source": [
    "richandfamous = make_direction(['rich', 'wealthy', 'prominent', 'famous'], ['poor', 'humble', 'obscure'])\n",
    "masculinefeminine = make_direction(['woman', 'girl', 'feminine'], ['man', 'boy', 'masculine'])"
   ]
  },
  {
   "cell_type": "code",
   "execution_count": null,
   "metadata": {
    "id": "disabled-notion"
   },
   "outputs": [],
   "source": [
    "plotframe = organizeby2dims(occupations, richandfamous, masculinefeminine, 'famous <---> obscure', 'feminine <---> masculine')\n",
    "plot_the_frame(plotframe)"
   ]
  },
  {
   "cell_type": "markdown",
   "metadata": {
    "id": "diagnostic-bowling"
   },
   "source": [
    "### You can ignore the section below\n",
    "\n",
    "I'm just noodling around here, demonstrating that \"cosine distance\" is not bounded at 1, and finding pairs of words that are exceptionally remote from each other."
   ]
  },
  {
   "cell_type": "code",
   "execution_count": null,
   "metadata": {
    "id": "unnecessary-garage",
    "outputId": "86649905-3797-47be-964c-835d8022120b"
   },
   "outputs": [
    {
     "name": "stdout",
     "output_type": "stream",
     "text": [
      "[(1.0300366915762424, ('banker', 'actress')), (1.0038220547139645, ('dancer', 'banker')), (1.0071706725284457, ('bodyguard', 'store')), (1.032026831060648, ('actress', 'handyman')), (1.032026831060648, ('handyman', 'actress')), (1.0113505348563194, ('broker', 'ape')), (1.0013482795329764, ('hawk', 'in')), (1.0034760788548738, ('mouse', 'actress')), (1.0113505348563194, ('ape', 'broker')), (1.0005821880185977, ('wren', 'broker')), (1.0071706725284457, ('store', 'bodyguard'))]\n"
     ]
    }
   ],
   "source": [
    "abunchofwords = occupations\n",
    "abunchofwords.extend(animals)\n",
    "abunchofwords.extend(vocab)\n",
    "\n",
    "remote = []\n",
    "\n",
    "for word1 in abunchofwords:\n",
    "    \n",
    "    farthestpair = ('null', 'set')\n",
    "    maxdist = 0\n",
    "    \n",
    "    doc = engl_nlp(word1)\n",
    "    firstvec = doc[0].vector\n",
    "    \n",
    "    for word2 in abunchofwords:\n",
    "        doc = engl_nlp(word2)\n",
    "        secondvec = doc[0].vector\n",
    "        \n",
    "        distance = cosine(firstvec, secondvec)\n",
    "        if distance > maxdist:\n",
    "            maxdist = distance\n",
    "            farthestpair = (word1, word2)\n",
    "    \n",
    "    if maxdist > 1:\n",
    "        remote.append((maxdist, farthestpair))\n",
    "        \n",
    "    if len(remote) > 10:\n",
    "        break\n",
    "\n",
    "print(remote)\n",
    "        "
   ]
  },
  {
   "cell_type": "code",
   "execution_count": null,
   "metadata": {
    "id": "sufficient-cotton"
   },
   "outputs": [],
   "source": []
  }
 ],
 "metadata": {
  "colab": {
   "name": "StaticWordEmbeddingsA.ipynb",
   "provenance": []
  },
  "kernelspec": {
   "display_name": "Python 3",
   "language": "python",
   "name": "python3"
  },
  "language_info": {
   "codemirror_mode": {
    "name": "ipython",
    "version": 3
   },
   "file_extension": ".py",
   "mimetype": "text/x-python",
   "name": "python",
   "nbconvert_exporter": "python",
   "pygments_lexer": "ipython3",
   "version": "3.6.5"
  }
 },
 "nbformat": 4,
 "nbformat_minor": 5
}
